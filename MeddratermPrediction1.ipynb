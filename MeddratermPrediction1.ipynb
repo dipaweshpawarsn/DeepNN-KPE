{
 "cells": [
  {
   "cell_type": "code",
   "execution_count": null,
   "metadata": {},
   "outputs": [],
   "source": []
  },
  {
   "cell_type": "code",
   "execution_count": 1,
   "metadata": {},
   "outputs": [],
   "source": [
    "from lxml import etree\n",
    "from nltk.tokenize import sent_tokenize, word_tokenize\n",
    "import re\n",
    "from collections import Counter\n",
    "import numpy as np"
   ]
  },
  {
   "cell_type": "code",
   "execution_count": 2,
   "metadata": {},
   "outputs": [],
   "source": [
    "import os\n",
    "from fnmatch import fnmatch\n",
    "\n",
    "root = 'C:/Users/nbq4481/Downloads/adis-20190715T114343Z-001/adis/public_dataset_ADR/train_xml/'\n",
    "pattern = \"*.xml\"\n",
    "all_files = []\n",
    "for path, subdirs, files in os.walk(root):\n",
    "    for name in files:\n",
    "        if fnmatch(name, pattern):\n",
    "            all_files.append(os.path.join(path, name))"
   ]
  },
  {
   "cell_type": "code",
   "execution_count": 3,
   "metadata": {},
   "outputs": [],
   "source": [
    "def process_file(root):\n",
    "    text_map = []\n",
    "    \n",
    "    for node in root.iter():\n",
    "        \n",
    "        if node.tag == 'Reaction':\n",
    "            \n",
    "            if \"str\" in node.attrib:\n",
    "                term = node.attrib['str']\n",
    "                value =\"\"\n",
    "                for node1 in node:\n",
    "                    if node1.tag == \"Normalization\":\n",
    "                        if \"meddra_llt\" in node1.attrib:\n",
    "                            value = node1.attrib['meddra_llt']\n",
    "                        elif \"meddra_pt\" in node1.attrib:\n",
    "                            value = node1.attrib[\"meddra_pt\"]\n",
    "                        break\n",
    "                if len(value)>0:\n",
    "                    text_map.append((term,value))\n",
    "                    \n",
    "    return text_map\n",
    "                \n"
   ]
  },
  {
   "cell_type": "code",
   "execution_count": null,
   "metadata": {},
   "outputs": [],
   "source": []
  },
  {
   "cell_type": "code",
   "execution_count": 4,
   "metadata": {
    "scrolled": true
   },
   "outputs": [
    {
     "name": "stdout",
     "output_type": "stream",
     "text": [
      "C:/Users/nbq4481/Downloads/adis-20190715T114343Z-001/adis/public_dataset_ADR/train_xml/ADCETRIS.xml\n",
      "C:/Users/nbq4481/Downloads/adis-20190715T114343Z-001/adis/public_dataset_ADR/train_xml/ADREVIEW.xml\n",
      "C:/Users/nbq4481/Downloads/adis-20190715T114343Z-001/adis/public_dataset_ADR/train_xml/AFINITOR.xml\n",
      "C:/Users/nbq4481/Downloads/adis-20190715T114343Z-001/adis/public_dataset_ADR/train_xml/AMPYRA.xml\n",
      "C:/Users/nbq4481/Downloads/adis-20190715T114343Z-001/adis/public_dataset_ADR/train_xml/AMYVID.xml\n",
      "C:/Users/nbq4481/Downloads/adis-20190715T114343Z-001/adis/public_dataset_ADR/train_xml/APTIOM.xml\n",
      "C:/Users/nbq4481/Downloads/adis-20190715T114343Z-001/adis/public_dataset_ADR/train_xml/ARCAPTA.xml\n",
      "C:/Users/nbq4481/Downloads/adis-20190715T114343Z-001/adis/public_dataset_ADR/train_xml/BELEODAQ.xml\n",
      "C:/Users/nbq4481/Downloads/adis-20190715T114343Z-001/adis/public_dataset_ADR/train_xml/BENLYSTA.xml\n",
      "C:/Users/nbq4481/Downloads/adis-20190715T114343Z-001/adis/public_dataset_ADR/train_xml/BEPREVE.xml\n",
      "C:/Users/nbq4481/Downloads/adis-20190715T114343Z-001/adis/public_dataset_ADR/train_xml/BESIVANCE.xml\n",
      "C:/Users/nbq4481/Downloads/adis-20190715T114343Z-001/adis/public_dataset_ADR/train_xml/BLINCYTO.xml\n",
      "C:/Users/nbq4481/Downloads/adis-20190715T114343Z-001/adis/public_dataset_ADR/train_xml/BOSULIF.xml\n",
      "C:/Users/nbq4481/Downloads/adis-20190715T114343Z-001/adis/public_dataset_ADR/train_xml/BREO.xml\n",
      "C:/Users/nbq4481/Downloads/adis-20190715T114343Z-001/adis/public_dataset_ADR/train_xml/CARBAGLU.xml\n",
      "C:/Users/nbq4481/Downloads/adis-20190715T114343Z-001/adis/public_dataset_ADR/train_xml/CERDELGA.xml\n",
      "C:/Users/nbq4481/Downloads/adis-20190715T114343Z-001/adis/public_dataset_ADR/train_xml/CHOLINE.xml\n",
      "C:/Users/nbq4481/Downloads/adis-20190715T114343Z-001/adis/public_dataset_ADR/train_xml/CIMZIA.xml\n",
      "C:/Users/nbq4481/Downloads/adis-20190715T114343Z-001/adis/public_dataset_ADR/train_xml/CLEVIPREX.xml\n",
      "C:/Users/nbq4481/Downloads/adis-20190715T114343Z-001/adis/public_dataset_ADR/train_xml/COARTEM.xml\n",
      "C:/Users/nbq4481/Downloads/adis-20190715T114343Z-001/adis/public_dataset_ADR/train_xml/COMETRIQ.xml\n",
      "C:/Users/nbq4481/Downloads/adis-20190715T114343Z-001/adis/public_dataset_ADR/train_xml/DALVANCE.xml\n",
      "C:/Users/nbq4481/Downloads/adis-20190715T114343Z-001/adis/public_dataset_ADR/train_xml/DATSCAN.xml\n",
      "C:/Users/nbq4481/Downloads/adis-20190715T114343Z-001/adis/public_dataset_ADR/train_xml/DIFICID.xml\n",
      "C:/Users/nbq4481/Downloads/adis-20190715T114343Z-001/adis/public_dataset_ADR/train_xml/DOTAREM.xml\n",
      "C:/Users/nbq4481/Downloads/adis-20190715T114343Z-001/adis/public_dataset_ADR/train_xml/DUAVEE.xml\n",
      "C:/Users/nbq4481/Downloads/adis-20190715T114343Z-001/adis/public_dataset_ADR/train_xml/DUREZOL.xml\n",
      "C:/Users/nbq4481/Downloads/adis-20190715T114343Z-001/adis/public_dataset_ADR/train_xml/DYSPORT.xml\n",
      "C:/Users/nbq4481/Downloads/adis-20190715T114343Z-001/adis/public_dataset_ADR/train_xml/EDARBI.xml\n",
      "C:/Users/nbq4481/Downloads/adis-20190715T114343Z-001/adis/public_dataset_ADR/train_xml/ELIQUIS.xml\n",
      "C:/Users/nbq4481/Downloads/adis-20190715T114343Z-001/adis/public_dataset_ADR/train_xml/ENTEREG.xml\n",
      "C:/Users/nbq4481/Downloads/adis-20190715T114343Z-001/adis/public_dataset_ADR/train_xml/EOVIST.xml\n",
      "C:/Users/nbq4481/Downloads/adis-20190715T114343Z-001/adis/public_dataset_ADR/train_xml/ERWINAZE.xml\n",
      "C:/Users/nbq4481/Downloads/adis-20190715T114343Z-001/adis/public_dataset_ADR/train_xml/EYLEA.xml\n",
      "C:/Users/nbq4481/Downloads/adis-20190715T114343Z-001/adis/public_dataset_ADR/train_xml/FANAPT.xml\n",
      "C:/Users/nbq4481/Downloads/adis-20190715T114343Z-001/adis/public_dataset_ADR/train_xml/FARXIGA.xml\n",
      "C:/Users/nbq4481/Downloads/adis-20190715T114343Z-001/adis/public_dataset_ADR/train_xml/FERRIPROX.xml\n",
      "C:/Users/nbq4481/Downloads/adis-20190715T114343Z-001/adis/public_dataset_ADR/train_xml/FIRAZYR.xml\n",
      "C:/Users/nbq4481/Downloads/adis-20190715T114343Z-001/adis/public_dataset_ADR/train_xml/FULYZAQ.xml\n",
      "C:/Users/nbq4481/Downloads/adis-20190715T114343Z-001/adis/public_dataset_ADR/train_xml/GADAVIST.xml\n",
      "C:/Users/nbq4481/Downloads/adis-20190715T114343Z-001/adis/public_dataset_ADR/train_xml/GILENYA.xml\n",
      "C:/Users/nbq4481/Downloads/adis-20190715T114343Z-001/adis/public_dataset_ADR/train_xml/GILOTRIF.xml\n",
      "C:/Users/nbq4481/Downloads/adis-20190715T114343Z-001/adis/public_dataset_ADR/train_xml/GRANIX.xml\n",
      "C:/Users/nbq4481/Downloads/adis-20190715T114343Z-001/adis/public_dataset_ADR/train_xml/HALAVEN.xml\n",
      "C:/Users/nbq4481/Downloads/adis-20190715T114343Z-001/adis/public_dataset_ADR/train_xml/HORIZANT.xml\n",
      "C:/Users/nbq4481/Downloads/adis-20190715T114343Z-001/adis/public_dataset_ADR/train_xml/ILARIS.xml\n",
      "C:/Users/nbq4481/Downloads/adis-20190715T114343Z-001/adis/public_dataset_ADR/train_xml/IMBRUVICA.xml\n",
      "C:/Users/nbq4481/Downloads/adis-20190715T114343Z-001/adis/public_dataset_ADR/train_xml/INLYTA.xml\n",
      "C:/Users/nbq4481/Downloads/adis-20190715T114343Z-001/adis/public_dataset_ADR/train_xml/INTELENCE.xml\n",
      "C:/Users/nbq4481/Downloads/adis-20190715T114343Z-001/adis/public_dataset_ADR/train_xml/INVOKANA.xml\n",
      "C:/Users/nbq4481/Downloads/adis-20190715T114343Z-001/adis/public_dataset_ADR/train_xml/JARDIANCE.xml\n",
      "C:/Users/nbq4481/Downloads/adis-20190715T114343Z-001/adis/public_dataset_ADR/train_xml/JEVTANA.xml\n",
      "C:/Users/nbq4481/Downloads/adis-20190715T114343Z-001/adis/public_dataset_ADR/train_xml/JUBLIA.xml\n",
      "C:/Users/nbq4481/Downloads/adis-20190715T114343Z-001/adis/public_dataset_ADR/train_xml/KALBITOR.xml\n",
      "C:/Users/nbq4481/Downloads/adis-20190715T114343Z-001/adis/public_dataset_ADR/train_xml/KALYDECO.xml\n",
      "C:/Users/nbq4481/Downloads/adis-20190715T114343Z-001/adis/public_dataset_ADR/train_xml/KYPROLIS.xml\n",
      "C:/Users/nbq4481/Downloads/adis-20190715T114343Z-001/adis/public_dataset_ADR/train_xml/LUMIZYME.xml\n",
      "C:/Users/nbq4481/Downloads/adis-20190715T114343Z-001/adis/public_dataset_ADR/train_xml/MULTAQ.xml\n",
      "C:/Users/nbq4481/Downloads/adis-20190715T114343Z-001/adis/public_dataset_ADR/train_xml/NATAZIA.xml\n",
      "C:/Users/nbq4481/Downloads/adis-20190715T114343Z-001/adis/public_dataset_ADR/train_xml/NESINA.xml\n",
      "C:/Users/nbq4481/Downloads/adis-20190715T114343Z-001/adis/public_dataset_ADR/train_xml/NEURACEQ.xml\n",
      "C:/Users/nbq4481/Downloads/adis-20190715T114343Z-001/adis/public_dataset_ADR/train_xml/NORTHERA.xml\n",
      "C:/Users/nbq4481/Downloads/adis-20190715T114343Z-001/adis/public_dataset_ADR/train_xml/NULOJIX.xml\n",
      "C:/Users/nbq4481/Downloads/adis-20190715T114343Z-001/adis/public_dataset_ADR/train_xml/ONFI.xml\n",
      "C:/Users/nbq4481/Downloads/adis-20190715T114343Z-001/adis/public_dataset_ADR/train_xml/OTEZLA.xml\n",
      "C:/Users/nbq4481/Downloads/adis-20190715T114343Z-001/adis/public_dataset_ADR/train_xml/PICATO.xml\n",
      "C:/Users/nbq4481/Downloads/adis-20190715T114343Z-001/adis/public_dataset_ADR/train_xml/POTIGA.xml\n",
      "C:/Users/nbq4481/Downloads/adis-20190715T114343Z-001/adis/public_dataset_ADR/train_xml/PRADAXA.xml\n",
      "C:/Users/nbq4481/Downloads/adis-20190715T114343Z-001/adis/public_dataset_ADR/train_xml/PRISTIQ.xml\n",
      "C:/Users/nbq4481/Downloads/adis-20190715T114343Z-001/adis/public_dataset_ADR/train_xml/PROLIA.xml\n",
      "C:/Users/nbq4481/Downloads/adis-20190715T114343Z-001/adis/public_dataset_ADR/train_xml/PROMACTA.xml\n",
      "C:/Users/nbq4481/Downloads/adis-20190715T114343Z-001/adis/public_dataset_ADR/train_xml/QUTENZA.xml\n",
      "C:/Users/nbq4481/Downloads/adis-20190715T114343Z-001/adis/public_dataset_ADR/train_xml/SAPHRIS.xml\n",
      "C:/Users/nbq4481/Downloads/adis-20190715T114343Z-001/adis/public_dataset_ADR/train_xml/SIMPONI.xml\n",
      "C:/Users/nbq4481/Downloads/adis-20190715T114343Z-001/adis/public_dataset_ADR/train_xml/SIRTURO.xml\n",
      "C:/Users/nbq4481/Downloads/adis-20190715T114343Z-001/adis/public_dataset_ADR/train_xml/STENDRA.xml\n",
      "C:/Users/nbq4481/Downloads/adis-20190715T114343Z-001/adis/public_dataset_ADR/train_xml/STRIBILD.xml\n",
      "C:/Users/nbq4481/Downloads/adis-20190715T114343Z-001/adis/public_dataset_ADR/train_xml/TAFINLAR.xml\n",
      "C:/Users/nbq4481/Downloads/adis-20190715T114343Z-001/adis/public_dataset_ADR/train_xml/TANZEUM.xml\n",
      "C:/Users/nbq4481/Downloads/adis-20190715T114343Z-001/adis/public_dataset_ADR/train_xml/TECFIDERA.xml\n",
      "C:/Users/nbq4481/Downloads/adis-20190715T114343Z-001/adis/public_dataset_ADR/train_xml/TEFLARO.xml\n",
      "C:/Users/nbq4481/Downloads/adis-20190715T114343Z-001/adis/public_dataset_ADR/train_xml/TIVICAY.xml\n",
      "C:/Users/nbq4481/Downloads/adis-20190715T114343Z-001/adis/public_dataset_ADR/train_xml/TOVIAZ.xml\n",
      "C:/Users/nbq4481/Downloads/adis-20190715T114343Z-001/adis/public_dataset_ADR/train_xml/TREANDA.xml\n",
      "C:/Users/nbq4481/Downloads/adis-20190715T114343Z-001/adis/public_dataset_ADR/train_xml/TRULICITY.xml\n",
      "C:/Users/nbq4481/Downloads/adis-20190715T114343Z-001/adis/public_dataset_ADR/train_xml/TUDORZA.xml\n",
      "C:/Users/nbq4481/Downloads/adis-20190715T114343Z-001/adis/public_dataset_ADR/train_xml/ULESFIA.xml\n",
      "C:/Users/nbq4481/Downloads/adis-20190715T114343Z-001/adis/public_dataset_ADR/train_xml/ULORIC.xml\n",
      "C:/Users/nbq4481/Downloads/adis-20190715T114343Z-001/adis/public_dataset_ADR/train_xml/VICTRELIS.xml\n",
      "C:/Users/nbq4481/Downloads/adis-20190715T114343Z-001/adis/public_dataset_ADR/train_xml/VIMIZIM.xml\n",
      "C:/Users/nbq4481/Downloads/adis-20190715T114343Z-001/adis/public_dataset_ADR/train_xml/VIZAMYL.xml\n",
      "C:/Users/nbq4481/Downloads/adis-20190715T114343Z-001/adis/public_dataset_ADR/train_xml/VORAXAZE.xml\n",
      "C:/Users/nbq4481/Downloads/adis-20190715T114343Z-001/adis/public_dataset_ADR/train_xml/XALKORI.xml\n",
      "C:/Users/nbq4481/Downloads/adis-20190715T114343Z-001/adis/public_dataset_ADR/train_xml/XEOMIN.xml\n",
      "C:/Users/nbq4481/Downloads/adis-20190715T114343Z-001/adis/public_dataset_ADR/train_xml/XIAFLEX.xml\n",
      "C:/Users/nbq4481/Downloads/adis-20190715T114343Z-001/adis/public_dataset_ADR/train_xml/XTANDI.xml\n",
      "C:/Users/nbq4481/Downloads/adis-20190715T114343Z-001/adis/public_dataset_ADR/train_xml/YERVOY.xml\n",
      "C:/Users/nbq4481/Downloads/adis-20190715T114343Z-001/adis/public_dataset_ADR/train_xml/ZERBAXA.xml\n",
      "C:/Users/nbq4481/Downloads/adis-20190715T114343Z-001/adis/public_dataset_ADR/train_xml/ZYDELIG.xml\n",
      "C:/Users/nbq4481/Downloads/adis-20190715T114343Z-001/adis/public_dataset_ADR/train_xml/ZYKADIA.xml\n",
      "C:/Users/nbq4481/Downloads/adis-20190715T114343Z-001/adis/public_dataset_ADR/train_xml/ZYTIGA.xml\n"
     ]
    }
   ],
   "source": [
    "\n",
    "termMedraDict  = []\n",
    "\n",
    "for file1 in all_files:\n",
    "    print(file1)\n",
    "    root = etree.parse(file1)\n",
    "    \n",
    "    text_map = process_file(root)\n",
    "    \n",
    "    #print(len(text_map))\n",
    "    \n",
    "    termMedraDict+=text_map\n",
    "    \n"
   ]
  },
  {
   "cell_type": "code",
   "execution_count": 5,
   "metadata": {},
   "outputs": [
    {
     "data": {
      "text/plain": [
       "6991"
      ]
     },
     "execution_count": 5,
     "metadata": {},
     "output_type": "execute_result"
    }
   ],
   "source": [
    "len(termMedraDict)"
   ]
  },
  {
   "cell_type": "code",
   "execution_count": 6,
   "metadata": {},
   "outputs": [],
   "source": [
    "import pandas as pd\n",
    "df1 = pd.read_excel(\"ProductData.xlsx\")"
   ]
  },
  {
   "cell_type": "code",
   "execution_count": 7,
   "metadata": {},
   "outputs": [],
   "source": [
    "df = df1[~df1['MedraLLT'].isnull()]"
   ]
  },
  {
   "cell_type": "code",
   "execution_count": 8,
   "metadata": {},
   "outputs": [],
   "source": [
    "for i, row in df.iterrows():\n",
    "    \n",
    "    term = row['PrimarySourceReport']\n",
    "    #re.sub('/|-', ' ', .lower())\n",
    "    value = row['MedraLLT']\n",
    "    termMedraDict.append((term,value))"
   ]
  },
  {
   "cell_type": "code",
   "execution_count": 9,
   "metadata": {},
   "outputs": [
    {
     "data": {
      "text/plain": [
       "117453"
      ]
     },
     "execution_count": 9,
     "metadata": {},
     "output_type": "execute_result"
    }
   ],
   "source": [
    "len(termMedraDict)"
   ]
  },
  {
   "cell_type": "code",
   "execution_count": 19,
   "metadata": {},
   "outputs": [
    {
     "data": {
      "text/plain": [
       "6838"
      ]
     },
     "execution_count": 19,
     "metadata": {},
     "output_type": "execute_result"
    }
   ],
   "source": [
    "len(set([row[1] for row in termMedraDict]))"
   ]
  },
  {
   "cell_type": "code",
   "execution_count": 18,
   "metadata": {
    "scrolled": true
   },
   "outputs": [
    {
     "data": {
      "text/plain": [
       "3882"
      ]
     },
     "execution_count": 18,
     "metadata": {},
     "output_type": "execute_result"
    }
   ],
   "source": [
    "len([row for row in termMedraDict if row[0].lower()==row[1].lower()])"
   ]
  },
  {
   "cell_type": "code",
   "execution_count": 15,
   "metadata": {},
   "outputs": [],
   "source": [
    "termMedraDict = list(set(termMedraDict))"
   ]
  },
  {
   "cell_type": "code",
   "execution_count": 25,
   "metadata": {},
   "outputs": [],
   "source": [
    "import random\n",
    "data = []\n",
    "\n",
    "for row in termMedraDict: \n",
    "    data.append(row+(1,))\n",
    "    \n",
    "    ind = random.sample(range(0, len(termMedraDict)), 8)\n",
    "    \n",
    "    j =0\n",
    "    for i in ind:\n",
    "        if row[1]!=termMedraDict[i][1]:\n",
    "            data.append((row[0], termMedraDict[i][1] ,0))\n",
    "            j+=1\n",
    "        if j==5:\n",
    "            break\n",
    "            "
   ]
  },
  {
   "cell_type": "code",
   "execution_count": 26,
   "metadata": {},
   "outputs": [
    {
     "data": {
      "text/plain": [
       "124488"
      ]
     },
     "execution_count": 26,
     "metadata": {},
     "output_type": "execute_result"
    }
   ],
   "source": [
    "len(data)"
   ]
  },
  {
   "cell_type": "code",
   "execution_count": 30,
   "metadata": {},
   "outputs": [],
   "source": [
    "indices1 = np.arange(len(data))\n",
    "np.random.shuffle(indices1)\n",
    "data = np.asanyarray(data)[indices1]"
   ]
  },
  {
   "cell_type": "code",
   "execution_count": null,
   "metadata": {},
   "outputs": [],
   "source": [
    "all_meddra_terms = list(set([row[1] for row in data]))"
   ]
  },
  {
   "cell_type": "code",
   "execution_count": 39,
   "metadata": {},
   "outputs": [],
   "source": [
    "import pandas as pd"
   ]
  },
  {
   "cell_type": "code",
   "execution_count": 40,
   "metadata": {},
   "outputs": [],
   "source": [
    "data = pd.DataFrame(data = data, columns = ['sen1','sen2','label'])"
   ]
  },
  {
   "cell_type": "code",
   "execution_count": null,
   "metadata": {},
   "outputs": [],
   "source": []
  },
  {
   "cell_type": "code",
   "execution_count": 34,
   "metadata": {},
   "outputs": [],
   "source": []
  },
  {
   "cell_type": "code",
   "execution_count": 35,
   "metadata": {},
   "outputs": [
    {
     "data": {
      "text/plain": [
       "6838"
      ]
     },
     "execution_count": 35,
     "metadata": {},
     "output_type": "execute_result"
    }
   ],
   "source": [
    "len(all_meddra_terms)"
   ]
  },
  {
   "cell_type": "code",
   "execution_count": 37,
   "metadata": {},
   "outputs": [],
   "source": [
    "from nltk.corpus import stopwords\n",
    "from nltk.tokenize import word_tokenize"
   ]
  },
  {
   "cell_type": "code",
   "execution_count": 47,
   "metadata": {},
   "outputs": [
    {
     "name": "stderr",
     "output_type": "stream",
     "text": [
      "[nltk_data] Downloading package stopwords to\n",
      "[nltk_data]     C:\\Users\\nbq4481\\AppData\\Roaming\\nltk_data...\n",
      "[nltk_data]   Unzipping corpora\\stopwords.zip.\n"
     ]
    },
    {
     "data": {
      "text/plain": [
       "True"
      ]
     },
     "execution_count": 47,
     "metadata": {},
     "output_type": "execute_result"
    }
   ],
   "source": [
    "import nltk\n",
    "nltk.download('stopwords')"
   ]
  },
  {
   "cell_type": "code",
   "execution_count": 48,
   "metadata": {},
   "outputs": [],
   "source": [
    "stop_words = set(stopwords.words('english')) "
   ]
  },
  {
   "cell_type": "code",
   "execution_count": 75,
   "metadata": {},
   "outputs": [],
   "source": [
    "def text_to_word_list(text):\n",
    "    ''' Pre process and convert texts to a list of words '''\n",
    "    text = str(text)\n",
    "    text = text.lower()\n",
    "\n",
    "    # Clean the text\n",
    "    text = re.sub(r\"[^A-Za-z0-9^,!.\\/'+-=]\", \" \", text)\n",
    "    text = re.sub(r\"what's\", \"what is \", text)\n",
    "    text = re.sub(r\"\\'s\", \" \", text)\n",
    "    text = re.sub(r\"\\'ve\", \" have \", text)\n",
    "    text = re.sub(r\"can't\", \"cannot \", text)\n",
    "    text = re.sub(r\"n't\", \" not \", text)\n",
    "    text = re.sub(r\"i'm\", \"i am \", text)\n",
    "    text = re.sub(r\"\\'re\", \" are \", text)\n",
    "    text = re.sub(r\"\\'d\", \" would \", text)\n",
    "    text = re.sub(r\"\\'ll\", \" will \", text)\n",
    "    text = re.sub(r\",\", \" \", text)\n",
    "    text = re.sub(r\"\\.\", \" \", text)\n",
    "    text = re.sub(r\"!\", \" ! \", text)\n",
    "    text = re.sub(r\"\\/\", \" \", text)\n",
    "    text = re.sub(r\"\\^\", \" ^ \", text)\n",
    "    text = re.sub(r\"\\+\", \" + \", text)\n",
    "    text = re.sub(r\"\\-\", \" - \", text)\n",
    "    text = re.sub(r\"\\=\", \" = \", text)\n",
    "    text = re.sub(r\"'\", \" \", text)\n",
    "    text = re.sub(r\"(\\d+)(k)\", r\"\\g<1>000\", text)\n",
    "    text = re.sub(r\":\", \" : \", text)\n",
    "    text = re.sub(r\" e g \", \" eg \", text)\n",
    "    text = re.sub(r\" b g \", \" bg \", text)\n",
    "    text = re.sub(r\" u s \", \" american \", text)\n",
    "    text = re.sub(r\"\\0s\", \"0\", text)\n",
    "    text = re.sub(r\" 9 11 \", \"911\", text)\n",
    "    text = re.sub(r\"e - mail\", \"email\", text)\n",
    "    text = re.sub(r\"j k\", \"jk\", text)\n",
    "    text = re.sub(r\"\\s{2,}\", \" \", text)\n",
    "\n",
    "    text = word_tokenize(text)\n",
    "    \n",
    "    text = [w for w in text if w not in stop_words]\n",
    "    text = [w for w in text if len(w)>1]\n",
    "    #text = [w for w in text if w.isalpha()]\n",
    "\n",
    "    return text"
   ]
  },
  {
   "cell_type": "code",
   "execution_count": 76,
   "metadata": {},
   "outputs": [],
   "source": [
    "data['tokens1'] = data['sen1'].apply(text_to_word_list)\n",
    "data['tokens2'] = data['sen2'].apply(text_to_word_list)"
   ]
  },
  {
   "cell_type": "code",
   "execution_count": 77,
   "metadata": {},
   "outputs": [],
   "source": [
    "word_count = Counter([x for y in data['tokens1'].values+data['tokens2'].values for x in y])"
   ]
  },
  {
   "cell_type": "code",
   "execution_count": 78,
   "metadata": {},
   "outputs": [],
   "source": [
    "wordDict = {w: i + 1 for i, w in enumerate(word_count.keys())}"
   ]
  },
  {
   "cell_type": "code",
   "execution_count": 282,
   "metadata": {},
   "outputs": [
    {
     "data": {
      "image/png": "[encoded data removed]",
      "text/plain": [
       "<Figure size 720x288 with 1 Axes>"
      ]
     },
     "metadata": {
      "needs_background": "light"
     },
     "output_type": "display_data"
    }
   ],
   "source": [
    "%matplotlib inline\n",
    "from matplotlib.pylab import rcParams\n",
    "import matplotlib.pyplot as plt\n",
    "\n",
    "seq_len = [len(row) for row in data['tokens1'].values]\n",
    "\n",
    "plt.figure(figsize=(10,4))\n",
    "plt.hist(seq_len, bins=10, range=[0, 20],   label='train')\n",
    "plt.xticks(rotation='vertical')\n",
    "plt.xlabel(\"seq length(no. of tokens in sentence)\")\n",
    "plt.ylabel(\"frequency (no. of sentences with)\")\n",
    "plt.show()"
   ]
  },
  {
   "cell_type": "code",
   "execution_count": 290,
   "metadata": {},
   "outputs": [
    {
     "data": {
      "text/plain": [
       "(4830, 124488)"
      ]
     },
     "execution_count": 290,
     "metadata": {},
     "output_type": "execute_result"
    }
   ],
   "source": [
    "sum([1 for a in seq_len if a>10]) , len(seq_len)"
   ]
  },
  {
   "cell_type": "code",
   "execution_count": 80,
   "metadata": {
    "scrolled": true
   },
   "outputs": [
    {
     "data": {
      "image/png": "[encoded data removed]",
      "text/plain": [
       "<Figure size 720x288 with 1 Axes>"
      ]
     },
     "metadata": {
      "needs_background": "light"
     },
     "output_type": "display_data"
    }
   ],
   "source": [
    "%matplotlib inline\n",
    "from matplotlib.pylab import rcParams\n",
    "import matplotlib.pyplot as plt\n",
    "\n",
    "seq_len = [len(row) for row in data['tokens2'].values]\n",
    "\n",
    "plt.figure(figsize=(10,4))\n",
    "plt.hist(seq_len, bins=10, range=[0, 20],   label='train')\n",
    "plt.xticks(rotation='vertical')\n",
    "plt.xlabel(\"seq length(no. of tokens in sentence)\")\n",
    "plt.ylabel(\"frequency (no. of sentences with)\")\n",
    "plt.show()"
   ]
  },
  {
   "cell_type": "code",
   "execution_count": 291,
   "metadata": {},
   "outputs": [],
   "source": [
    "max_seq_len = 10"
   ]
  },
  {
   "cell_type": "code",
   "execution_count": 292,
   "metadata": {},
   "outputs": [],
   "source": [
    "from keras.preprocessing.sequence import pad_sequences\n",
    "\n",
    "X1 = [[wordDict[w] for w in s ] for s in data['tokens1'].values]\n",
    "X2 = [[wordDict[w] for w in s ] for s in data['tokens2'].values]\n",
    "\n",
    "X1 = pad_sequences(maxlen=max_seq_len, sequences=X1, padding=\"post\", value= 0, truncating=\"pre\")\n",
    "X2 = pad_sequences(maxlen=max_seq_len, sequences=X2, padding=\"post\", value= 0,truncating=\"pre\")\n"
   ]
  },
  {
   "cell_type": "code",
   "execution_count": 298,
   "metadata": {},
   "outputs": [
    {
     "data": {
      "image/png": "[encoded data removed]",
      "text/plain": [
       "<Figure size 720x288 with 1 Axes>"
      ]
     },
     "metadata": {
      "needs_background": "light"
     },
     "output_type": "display_data"
    }
   ],
   "source": [
    "%matplotlib inline\n",
    "from matplotlib.pylab import rcParams\n",
    "import matplotlib.pyplot as plt\n",
    "\n",
    "seq_len = [len(\"\".join(row)) for row in data['tokens1'].values]\n",
    "\n",
    "plt.figure(figsize=(10,4))\n",
    "plt.hist(seq_len, bins=10, range=[0, 150],   label='train')\n",
    "plt.xticks(rotation='vertical')\n",
    "plt.xlabel(\"seq length(no. of tokens in sentence)\")\n",
    "plt.ylabel(\"frequency (no. of sentences with)\")\n",
    "plt.show()"
   ]
  },
  {
   "cell_type": "code",
   "execution_count": 297,
   "metadata": {},
   "outputs": [
    {
     "data": {
      "image/png": "[encoded data removed]",
      "text/plain": [
       "<Figure size 720x288 with 1 Axes>"
      ]
     },
     "metadata": {
      "needs_background": "light"
     },
     "output_type": "display_data"
    }
   ],
   "source": [
    "%matplotlib inline\n",
    "from matplotlib.pylab import rcParams\n",
    "import matplotlib.pyplot as plt\n",
    "\n",
    "seq_len = [len(\"\".join(row)) for row in data['tokens2'].values]\n",
    "\n",
    "plt.figure(figsize=(10,4))\n",
    "plt.hist(seq_len, bins=10, range=[0, 150],   label='train')\n",
    "plt.xticks(rotation='vertical')\n",
    "plt.xlabel(\"seq length(no. of tokens in sentence)\")\n",
    "plt.ylabel(\"frequency (no. of sentences with)\")\n",
    "plt.show()"
   ]
  },
  {
   "cell_type": "code",
   "execution_count": 299,
   "metadata": {},
   "outputs": [],
   "source": [
    "max_len_char = 70"
   ]
  },
  {
   "cell_type": "code",
   "execution_count": 300,
   "metadata": {
    "scrolled": true
   },
   "outputs": [
    {
     "name": "stdout",
     "output_type": "stream",
     "text": [
      "26\n"
     ]
    }
   ],
   "source": [
    "chars = set([w_i for w in [x for y in data['tokens1'].values+data['tokens2'].values for x in y] for w_i in w if w_i.isalpha()])\n",
    "n_chars = len(chars)\n",
    "print(n_chars)"
   ]
  },
  {
   "cell_type": "code",
   "execution_count": null,
   "metadata": {},
   "outputs": [],
   "source": []
  },
  {
   "cell_type": "code",
   "execution_count": 301,
   "metadata": {},
   "outputs": [],
   "source": [
    "char2idx = {c: i + 1 for i, c in enumerate(chars)}"
   ]
  },
  {
   "cell_type": "code",
   "execution_count": 302,
   "metadata": {},
   "outputs": [],
   "source": [
    "from keras.preprocessing.sequence import pad_sequences\n",
    "\n",
    "Z1 = [[char2idx[w] for w in \"\".join(s) if w in chars] for s in data['tokens1'].values]\n",
    "Z2 = [[char2idx[w] for w in \"\".join(s) if w in chars] for s in data['tokens2'].values]\n",
    "\n",
    "Z1 = pad_sequences(maxlen=max_len_char, sequences=Z1, padding=\"post\", value= 0, truncating=\"pre\")\n",
    "Z2 = pad_sequences(maxlen=max_len_char, sequences=Z2, padding=\"post\", value= 0,truncating=\"pre\")\n"
   ]
  },
  {
   "cell_type": "code",
   "execution_count": 306,
   "metadata": {},
   "outputs": [],
   "source": [
    "Y = np.asarray([int(a) for a in data['label'].values])"
   ]
  },
  {
   "cell_type": "code",
   "execution_count": null,
   "metadata": {},
   "outputs": [],
   "source": []
  },
  {
   "cell_type": "code",
   "execution_count": 309,
   "metadata": {},
   "outputs": [
    {
     "name": "stderr",
     "output_type": "stream",
     "text": [
      "C:\\Anaconda\\lib\\site-packages\\smart_open\\smart_open_lib.py:398: UserWarning: This function is deprecated, use smart_open.open instead. See the migration notes for details: https://github.com/RaRe-Technologies/smart_open/blob/master/README.rst#migrating-to-the-new-open-function\n",
      "  'See the migration notes for details: %s' % _MIGRATION_NOTES_URL\n"
     ]
    }
   ],
   "source": [
    "import gensim\n",
    "\n",
    "# Load pre-trained Word2Vec model.\n",
    "pretrained_ebd_model2 = gensim.models.KeyedVectors.load_word2vec_format(\"C:/Users/nbq4481/Downloads/pubmed2018_w2v_200D/pubmed2018_w2v_200D.bin\",binary=True)"
   ]
  },
  {
   "cell_type": "code",
   "execution_count": 310,
   "metadata": {},
   "outputs": [],
   "source": [
    "abw_list = []\n",
    "EMBEDDING_DIM = 200\n",
    "num_words = len(wordDict) \n",
    "embedding_matrix = np.random.uniform(-0.25, 0.25,(num_words+1, EMBEDDING_DIM))\n",
    "abw = 0 \n",
    "for word, i in wordDict.items():\n",
    "    if word in pretrained_ebd_model2:\n",
    "        embedding_matrix[i] = pretrained_ebd_model2[word]\n",
    "    else:\n",
    "        abw+=1\n",
    "        abw_list.append(word)\n",
    "        pass\n",
    "        #print(word)"
   ]
  },
  {
   "cell_type": "code",
   "execution_count": 311,
   "metadata": {},
   "outputs": [
    {
     "data": {
      "text/plain": [
       "188"
      ]
     },
     "execution_count": 311,
     "metadata": {},
     "output_type": "execute_result"
    }
   ],
   "source": [
    "abw"
   ]
  },
  {
   "cell_type": "code",
   "execution_count": 312,
   "metadata": {},
   "outputs": [],
   "source": [
    "pretrained_ebd_model2  =None"
   ]
  },
  {
   "cell_type": "code",
   "execution_count": 313,
   "metadata": {},
   "outputs": [],
   "source": [
    "split_ind = int(len(data)*0.90)"
   ]
  },
  {
   "cell_type": "code",
   "execution_count": 314,
   "metadata": {},
   "outputs": [],
   "source": [
    "X1train = X1[:split_ind]\n",
    "X2train = X2[:split_ind]\n",
    "Z1train = Z1[:split_ind]\n",
    "Z2train = Z2[:split_ind]\n",
    "\n",
    "X1val = X1[split_ind:]\n",
    "X2val = X2[split_ind:]\n",
    "Z1val = Z1[split_ind:]\n",
    "Z2val = Z2[split_ind:]\n",
    "\n",
    "\n",
    "ytrain = Y[:split_ind]\n",
    "yval = Y[split_ind:]"
   ]
  },
  {
   "cell_type": "code",
   "execution_count": 315,
   "metadata": {},
   "outputs": [
    {
     "data": {
      "text/plain": [
       "((112039, 10), (12449, 10))"
      ]
     },
     "execution_count": 315,
     "metadata": {},
     "output_type": "execute_result"
    }
   ],
   "source": [
    "X1train.shape, X1val.shape"
   ]
  },
  {
   "cell_type": "code",
   "execution_count": 316,
   "metadata": {},
   "outputs": [
    {
     "data": {
      "text/plain": [
       "(Counter({0: 10390, 1: 2059}), Counter({0: 93350, 1: 18689}))"
      ]
     },
     "execution_count": 316,
     "metadata": {},
     "output_type": "execute_result"
    }
   ],
   "source": [
    "Counter(yval), Counter(ytrain)"
   ]
  },
  {
   "cell_type": "code",
   "execution_count": 317,
   "metadata": {},
   "outputs": [],
   "source": [
    "from keras.models import Model, Input\n",
    "from keras.layers import LSTM, Embedding, Dense, TimeDistributed, Dropout, Bidirectional, BatchNormalization, \\\n",
    "Convolution1D, MaxPooling1D, Flatten, GlobalAveragePooling1D, GlobalMaxPooling1D, Subtract\n",
    "from keras_contrib.layers import CRF\n",
    "from keras.callbacks import EarlyStopping\n",
    "from keras.layers import concatenate"
   ]
  },
  {
   "cell_type": "code",
   "execution_count": null,
   "metadata": {},
   "outputs": [],
   "source": []
  },
  {
   "cell_type": "code",
   "execution_count": 318,
   "metadata": {},
   "outputs": [],
   "source": [
    "\n",
    "char_EMBEDDING_DIM = 4\n",
    "\n",
    "char_emb_layer = Embedding(input_dim=n_chars+1 , output_dim= char_EMBEDDING_DIM,\n",
    "                               input_length=max_len_char)\n",
    "\n",
    "def get_conv_graph1(filter_sizes,no_filters,ip_shape, pool_len=2):\n",
    "    graph_in = Input(shape=ip_shape)\n",
    "    convs = []              \n",
    "    for fsz in filter_sizes:\n",
    "        conv = Convolution1D(filters=no_filters,        \n",
    "                              kernel_size=fsz,\n",
    "                                 padding=\"same\",\n",
    "                                 activation='relu',)(graph_in)\n",
    "        \n",
    "        pool = MaxPooling1D(pool_length=pool_len)(conv)    \n",
    "        convs.append(pool)\n",
    "\n",
    "    if len(filter_sizes) > 1:\n",
    "        out = concatenate(convs)\n",
    "    else:\n",
    "        out = convs[0]\n",
    "    \n",
    "    graph = Model(input=graph_in, output=out)\n",
    "    return graph\n",
    "\n",
    "def Char_cnn(max_len_char, char_EMBEDDING_DIM):\n",
    "    \n",
    "    input_data = Input(shape=(max_len_char,),)\n",
    "\n",
    "    emb_ip = char_emb_layer(input_data)\n",
    "    \n",
    "    graph = get_conv_graph1([2,3,4,5],15,(max_len_char,char_EMBEDDING_DIM))\n",
    "    \n",
    "    conv1 = graph(emb_ip)\n",
    "    \n",
    "    x = Dropout(0.1)(conv1)\n",
    "    \n",
    "    graph = get_conv_graph1([2,3],40,(int(conv1.shape[1]),int(conv1.shape[2])))\n",
    "    \n",
    "    conv1 = graph(x)    \n",
    "    \n",
    "    x = Dropout(0.2)(conv1)\n",
    "    \n",
    "    #x = BatchNormalization()(x)\n",
    "    \n",
    "    #x = LSTM(30, dropout=0.2)(x)\n",
    "    \n",
    "    \n",
    "    graph = get_conv_graph1([2,3],45,(int(conv1.shape[1]),int(conv1.shape[2])))\n",
    "    \n",
    "    conv1 = graph(x) \n",
    "    \n",
    "    x = Dropout(0.2)(conv1)\n",
    "    \n",
    "    graph = get_conv_graph1([2,3],50,(int(conv1.shape[1]),int(conv1.shape[2])))\n",
    "    \n",
    "    conv1 = graph(x) \n",
    "    \n",
    "    flatten = Flatten()(conv1)\n",
    "    \n",
    "    out = Dense(100,activation='relu')(flatten)\n",
    "    \n",
    "    model = Model(input=input_data, output=out)\n",
    "\n",
    "    return model"
   ]
  },
  {
   "cell_type": "code",
   "execution_count": 319,
   "metadata": {},
   "outputs": [],
   "source": [
    "Embedding_dim = 200\n",
    "embeding_layer = Embedding(input_dim= len(wordDict)+1, output_dim= Embedding_dim, weights = [embedding_matrix],\n",
    "                  input_length=max_seq_len, mask_zero=True)\n",
    "\n",
    "def create_model(embeding_layer, max_len):\n",
    "    \n",
    "    left_input = Input(shape=(max_len,))\n",
    "    right_input = Input(shape=(max_len,))\n",
    "    left_char_in = Input(shape=(max_len_char,))\n",
    "    right_char_in = Input(shape=(max_len_char,))\n",
    "\n",
    "    left_emb_word = embeding_layer(left_input)\n",
    "    right_emb_word = embeding_layer(right_input)\n",
    "    \n",
    "    char_cnn_model = Char_cnn(max_len_char, char_EMBEDDING_DIM)\n",
    "    \n",
    "    left_char_emb = char_cnn_model(left_char_in)\n",
    "    right_char_emb = char_cnn_model(right_char_in)\n",
    "    \n",
    "    lstm1 =  Bidirectional(LSTM(units=100))\n",
    "    \n",
    "    left_lstm = lstm1(left_emb_word)\n",
    "    right_lstm = lstm1(right_emb_word)\n",
    "\n",
    "    \n",
    "    left_conc = concatenate([left_lstm, left_char_emb])\n",
    "    right_conc = concatenate([right_lstm, right_char_emb])\n",
    "\n",
    "    norm_layer = BatchNormalization()\n",
    "    left_norm = norm_layer(left_conc)\n",
    "    right_norm = norm_layer(right_conc)\n",
    "    \n",
    "    subtracted = Subtract()([left_norm, right_norm])\n",
    "    \n",
    "#     concat =   concatenate([left_norm,right_norm])\n",
    "\n",
    "#     dense = Dense(300,  activation=\"relu\")(concat)\n",
    "#     dropout = Dropout(0.2)(dense)\n",
    "#     norm  = BatchNormalization()(dropout)\n",
    "\n",
    "#     dense = Dense(300,  activation=\"relu\")(norm)\n",
    "#     dropout = Dropout(0.2)(dense)\n",
    "#     norm  = BatchNormalization()(dropout)\n",
    "    \n",
    "#     dense = Dense(300,  activation=\"relu\")(norm)\n",
    "#     dropout = Dropout(0.2)(dense)\n",
    "#     norm  = BatchNormalization()(dropout)\n",
    "    \n",
    "#     dense = Dense(300,  activation=\"relu\")(norm)\n",
    "#     dropout = Dropout(0.2)(dense)\n",
    "#     norm  = BatchNormalization()(dense)\n",
    "    \n",
    "#     dense = Dense(300,  activation=\"relu\")(norm)\n",
    "#     dropout = Dropout(0.2)(dense)\n",
    "#     norm  = BatchNormalization()(dense)\n",
    "\n",
    "#     concat = concatenate([norm,subtracted])\n",
    "#     norm  = BatchNormalization()(concat)\n",
    "\n",
    "    norm  = BatchNormalization()(subtracted)\n",
    "    \n",
    "    dense = Dense(100,  activation=\"relu\")(norm)\n",
    "    dropout = Dropout(0.2)(dense)\n",
    "    \n",
    "    out = Dense(1, activation='sigmoid')(dropout)\n",
    "    \n",
    "    model = Model(inputs=[left_input,right_input,left_char_in,right_char_in], outputs=out)\n",
    "    \n",
    "    model.compile(optimizer='rmsprop',\n",
    "              loss='binary_crossentropy',\n",
    "              metrics=['accuracy'])\n",
    "    \n",
    "    return model\n",
    "    "
   ]
  },
  {
   "cell_type": "code",
   "execution_count": 320,
   "metadata": {},
   "outputs": [
    {
     "name": "stderr",
     "output_type": "stream",
     "text": [
      "C:\\Anaconda\\lib\\site-packages\\ipykernel_launcher.py:16: UserWarning: Update your `MaxPooling1D` call to the Keras 2 API: `MaxPooling1D(pool_size=2)`\n",
      "  app.launch_new_instance()\n",
      "C:\\Anaconda\\lib\\site-packages\\ipykernel_launcher.py:24: UserWarning: Update your `Model` call to the Keras 2 API: `Model(inputs=Tensor(\"in..., outputs=Tensor(\"co...)`\n",
      "C:\\Anaconda\\lib\\site-packages\\ipykernel_launcher.py:64: UserWarning: Update your `Model` call to the Keras 2 API: `Model(inputs=Tensor(\"in..., outputs=Tensor(\"de...)`\n"
     ]
    }
   ],
   "source": [
    "model = create_model(embeding_layer, max_seq_len)"
   ]
  },
  {
   "cell_type": "code",
   "execution_count": 321,
   "metadata": {
    "scrolled": true
   },
   "outputs": [
    {
     "name": "stdout",
     "output_type": "stream",
     "text": [
      "__________________________________________________________________________________________________\n",
      "Layer (type)                    Output Shape         Param #     Connected to                     \n",
      "==================================================================================================\n",
      "input_106 (InputLayer)          (None, 10)           0                                            \n",
      "__________________________________________________________________________________________________\n",
      "input_107 (InputLayer)          (None, 10)           0                                            \n",
      "__________________________________________________________________________________________________\n",
      "embedding_19 (Embedding)        (None, 10, 200)      1862000     input_106[0][0]                  \n",
      "                                                                 input_107[0][0]                  \n",
      "__________________________________________________________________________________________________\n",
      "input_108 (InputLayer)          (None, 70)           0                                            \n",
      "__________________________________________________________________________________________________\n",
      "input_109 (InputLayer)          (None, 70)           0                                            \n",
      "__________________________________________________________________________________________________\n",
      "bidirectional_9 (Bidirectional) (None, 200)          240800      embedding_19[0][0]               \n",
      "                                                                 embedding_19[1][0]               \n",
      "__________________________________________________________________________________________________\n",
      "model_79 (Model)                (None, 100)          93878       input_108[0][0]                  \n",
      "                                                                 input_109[0][0]                  \n",
      "__________________________________________________________________________________________________\n",
      "concatenate_80 (Concatenate)    (None, 300)          0           bidirectional_9[0][0]            \n",
      "                                                                 model_79[1][0]                   \n",
      "__________________________________________________________________________________________________\n",
      "concatenate_81 (Concatenate)    (None, 300)          0           bidirectional_9[1][0]            \n",
      "                                                                 model_79[2][0]                   \n",
      "__________________________________________________________________________________________________\n",
      "batch_normalization_27 (BatchNo (None, 300)          1200        concatenate_80[0][0]             \n",
      "                                                                 concatenate_81[0][0]             \n",
      "__________________________________________________________________________________________________\n",
      "subtract_6 (Subtract)           (None, 300)          0           batch_normalization_27[0][0]     \n",
      "                                                                 batch_normalization_27[1][0]     \n",
      "__________________________________________________________________________________________________\n",
      "batch_normalization_28 (BatchNo (None, 300)          1200        subtract_6[0][0]                 \n",
      "__________________________________________________________________________________________________\n",
      "dense_35 (Dense)                (None, 100)          30100       batch_normalization_28[0][0]     \n",
      "__________________________________________________________________________________________________\n",
      "dropout_61 (Dropout)            (None, 100)          0           dense_35[0][0]                   \n",
      "__________________________________________________________________________________________________\n",
      "dense_36 (Dense)                (None, 1)            101         dropout_61[0][0]                 \n",
      "==================================================================================================\n",
      "Total params: 2,229,279\n",
      "Trainable params: 2,228,079\n",
      "Non-trainable params: 1,200\n",
      "__________________________________________________________________________________________________\n"
     ]
    }
   ],
   "source": [
    "model.summary()"
   ]
  },
  {
   "cell_type": "code",
   "execution_count": 323,
   "metadata": {},
   "outputs": [],
   "source": [
    "from keras.callbacks import EarlyStopping, ModelCheckpoint\n",
    "\n",
    "file_path= \"weights_base.best.hdf5\"\n",
    "\n",
    "checkpoint = ModelCheckpoint(file_path, monitor='val_acc', verbose=1, save_best_only=True, mode='max')\n",
    "\n",
    "early = EarlyStopping(monitor=\"val_acc\", mode=\"max\", patience=3)\n",
    "\n",
    "callbacks_list = [checkpoint, early] "
   ]
  },
  {
   "cell_type": "code",
   "execution_count": 324,
   "metadata": {
    "scrolled": true
   },
   "outputs": [
    {
     "name": "stdout",
     "output_type": "stream",
     "text": [
      "Train on 112039 samples, validate on 12449 samples\n",
      "Epoch 1/3\n",
      "112039/112039 [==============================] - 1174s 10ms/step - loss: 0.1327 - acc: 0.9479 - val_loss: 0.6897 - val_acc: 0.8137\n",
      "\n",
      "Epoch 00001: val_acc improved from -inf to 0.81372, saving model to weights_base.best.hdf5\n",
      "Epoch 2/3\n",
      "112039/112039 [==============================] - 1171s 10ms/step - loss: 0.0788 - acc: 0.9725 - val_loss: 0.0792 - val_acc: 0.9730\n",
      "\n",
      "Epoch 00002: val_acc improved from 0.81372 to 0.97301, saving model to weights_base.best.hdf5\n",
      "Epoch 3/3\n",
      "112039/112039 [==============================] - 1155s 10ms/step - loss: 0.0643 - acc: 0.9785 - val_loss: 0.0816 - val_acc: 0.9747\n",
      "\n",
      "Epoch 00003: val_acc improved from 0.97301 to 0.97470, saving model to weights_base.best.hdf5\n"
     ]
    },
    {
     "data": {
      "text/plain": [
       "<keras.callbacks.History at 0x1e89d9e80>"
      ]
     },
     "execution_count": 324,
     "metadata": {},
     "output_type": "execute_result"
    }
   ],
   "source": [
    "indices = np.arange(len(X1train))\n",
    "np.random.shuffle(indices)\n",
    "model.fit([X1train[indices],X2train[indices],Z1train[indices],Z2train[indices]], ytrain[indices],\n",
    "          batch_size=32, epochs=3, callbacks=callbacks_list, \n",
    "          validation_data=([X1val,X2val,Z1val,Z2val],yval),verbose=1, shuffle=True)"
   ]
  },
  {
   "cell_type": "code",
   "execution_count": 325,
   "metadata": {},
   "outputs": [
    {
     "name": "stdout",
     "output_type": "stream",
     "text": [
      "Train on 112039 samples, validate on 12449 samples\n",
      "Epoch 1/3\n",
      "112039/112039 [==============================] - 948s 8ms/step - loss: 0.0546 - acc: 0.9820 - val_loss: 0.0883 - val_acc: 0.9761\n",
      "\n",
      "Epoch 00001: val_acc improved from 0.97470 to 0.97606, saving model to weights_base.best.hdf5\n",
      "Epoch 2/3\n",
      "112039/112039 [==============================] - 941s 8ms/step - loss: 0.0492 - acc: 0.9843 - val_loss: 0.1019 - val_acc: 0.9717\n",
      "\n",
      "Epoch 00002: val_acc did not improve from 0.97606\n",
      "Epoch 3/3\n",
      "112039/112039 [==============================] - 1035s 9ms/step - loss: 0.0448 - acc: 0.9859 - val_loss: 0.1000 - val_acc: 0.9732\n",
      "\n",
      "Epoch 00003: val_acc did not improve from 0.97606\n"
     ]
    },
    {
     "data": {
      "text/plain": [
       "<keras.callbacks.History at 0x24556a198>"
      ]
     },
     "execution_count": 325,
     "metadata": {},
     "output_type": "execute_result"
    }
   ],
   "source": [
    "indices = np.arange(len(X1train))\n",
    "np.random.shuffle(indices)\n",
    "model.fit([X1train[indices],X2train[indices],Z1train[indices],Z2train[indices]], ytrain[indices],\n",
    "          batch_size=32, epochs=3, callbacks=callbacks_list, \n",
    "          validation_data=([X1val,X2val,Z1val,Z2val],yval),verbose=1, shuffle=True)"
   ]
  },
  {
   "cell_type": "code",
   "execution_count": 270,
   "metadata": {
    "scrolled": true
   },
   "outputs": [
    {
     "name": "stdout",
     "output_type": "stream",
     "text": [
      "Train on 112039 samples, validate on 12449 samples\n",
      "Epoch 1/1\n",
      "112039/112039 [==============================] - 1329s 12ms/step - loss: 0.0441 - acc: 0.9865 - val_loss: 0.0899 - val_acc: 0.9749\n",
      "\n",
      "Epoch 00001: val_acc did not improve from 0.97574\n"
     ]
    },
    {
     "data": {
      "text/plain": [
       "<keras.callbacks.History at 0x15fa05080>"
      ]
     },
     "execution_count": 270,
     "metadata": {},
     "output_type": "execute_result"
    }
   ],
   "source": [
    "indices = np.arange(len(X1train))\n",
    "np.random.shuffle(indices)\n",
    "model.fit([X1train[indices],X2train[indices],Z1train[indices],Z2train[indices]], ytrain[indices],\n",
    "          batch_size=32, epochs=1, callbacks=callbacks_list, \n",
    "          validation_data=([X1val,X2val,Z1val,Z2val],yval),verbose=1, shuffle=True)"
   ]
  },
  {
   "cell_type": "code",
   "execution_count": 326,
   "metadata": {},
   "outputs": [],
   "source": [
    "model.load_weights(\"weights_base.best.hdf5\")"
   ]
  },
  {
   "cell_type": "code",
   "execution_count": 334,
   "metadata": {},
   "outputs": [],
   "source": [
    "model.save(\"MeddraTermPrediction/model3\")"
   ]
  },
  {
   "cell_type": "code",
   "execution_count": 253,
   "metadata": {},
   "outputs": [],
   "source": [
    "from keras.models import load_model\n",
    "\n",
    "model = load_model('MeddraTermPrediction/model1')"
   ]
  },
  {
   "cell_type": "code",
   "execution_count": 327,
   "metadata": {},
   "outputs": [],
   "source": [
    "prediction = model.predict([X1val,X2val,Z1val,Z2val])"
   ]
  },
  {
   "cell_type": "code",
   "execution_count": 328,
   "metadata": {},
   "outputs": [],
   "source": [
    "prediction1 = np.asarray([1 if a>0.5 else 0 for a in prediction])"
   ]
  },
  {
   "cell_type": "code",
   "execution_count": 329,
   "metadata": {},
   "outputs": [],
   "source": [
    "from sklearn.metrics import accuracy_score\n",
    "from sklearn.metrics import classification_report\n",
    "from sklearn.metrics import confusion_matrix"
   ]
  },
  {
   "cell_type": "code",
   "execution_count": null,
   "metadata": {},
   "outputs": [],
   "source": []
  },
  {
   "cell_type": "code",
   "execution_count": 256,
   "metadata": {
    "scrolled": true
   },
   "outputs": [
    {
     "data": {
      "text/plain": [
       "0.9720459474656599"
      ]
     },
     "execution_count": 256,
     "metadata": {},
     "output_type": "execute_result"
    }
   ],
   "source": [
    "accuracy_score(prediction1, [int(a) for a in yval.values])"
   ]
  },
  {
   "cell_type": "code",
   "execution_count": 331,
   "metadata": {},
   "outputs": [
    {
     "name": "stdout",
     "output_type": "stream",
     "text": [
      "              precision    recall  f1-score   support\n",
      "\n",
      "           0       0.98      0.99      0.99     10374\n",
      "           1       0.93      0.92      0.93      2075\n",
      "\n",
      "   micro avg       0.98      0.98      0.98     12449\n",
      "   macro avg       0.96      0.96      0.96     12449\n",
      "weighted avg       0.98      0.98      0.98     12449\n",
      "\n"
     ]
    }
   ],
   "source": [
    "print(classification_report(prediction1, yval))"
   ]
  },
  {
   "cell_type": "code",
   "execution_count": 249,
   "metadata": {},
   "outputs": [
    {
     "name": "stdout",
     "output_type": "stream",
     "text": [
      "              precision    recall  f1-score   support\n",
      "\n",
      "           0       0.98      0.98      0.98     10408\n",
      "           1       0.91      0.92      0.92      2041\n",
      "\n",
      "   micro avg       0.97      0.97      0.97     12449\n",
      "   macro avg       0.95      0.95      0.95     12449\n",
      "weighted avg       0.97      0.97      0.97     12449\n",
      "\n"
     ]
    }
   ],
   "source": [
    "print(classification_report(prediction1, [int(a) for a in yval.values]))"
   ]
  },
  {
   "cell_type": "code",
   "execution_count": 265,
   "metadata": {},
   "outputs": [
    {
     "name": "stdout",
     "output_type": "stream",
     "text": [
      "              precision    recall  f1-score   support\n",
      "\n",
      "           0       0.98      0.99      0.99     10304\n",
      "           1       0.95      0.91      0.93      2145\n",
      "\n",
      "   micro avg       0.98      0.98      0.98     12449\n",
      "   macro avg       0.96      0.95      0.96     12449\n",
      "weighted avg       0.98      0.98      0.98     12449\n",
      "\n"
     ]
    }
   ],
   "source": [
    "print(classification_report(prediction1, [int(a) for a in yval.values]))"
   ]
  },
  {
   "cell_type": "code",
   "execution_count": 333,
   "metadata": {},
   "outputs": [
    {
     "name": "stdout",
     "output_type": "stream",
     "text": [
      "[[10233   141]\n",
      " [  157  1918]]\n"
     ]
    }
   ],
   "source": [
    "print(confusion_matrix(prediction1,yval))"
   ]
  },
  {
   "cell_type": "code",
   "execution_count": 235,
   "metadata": {},
   "outputs": [
    {
     "name": "stdout",
     "output_type": "stream",
     "text": [
      "[[10225   183]\n",
      " [  165  1876]]\n"
     ]
    }
   ],
   "source": [
    "print(confusion_matrix(prediction1, [int(a) for a in yval.values]))"
   ]
  },
  {
   "cell_type": "code",
   "execution_count": 266,
   "metadata": {},
   "outputs": [
    {
     "name": "stdout",
     "output_type": "stream",
     "text": [
      "[[10196   108]\n",
      " [  194  1951]]\n"
     ]
    }
   ],
   "source": [
    "print(confusion_matrix(prediction1, [int(a) for a in yval.values]))"
   ]
  },
  {
   "cell_type": "code",
   "execution_count": null,
   "metadata": {},
   "outputs": [],
   "source": []
  },
  {
   "cell_type": "code",
   "execution_count": 344,
   "metadata": {},
   "outputs": [
    {
     "data": {
      "text/html": [
       "<div>\n",
       "<style scoped>\n",
       "    .dataframe tbody tr th:only-of-type {\n",
       "        vertical-align: middle;\n",
       "    }\n",
       "\n",
       "    .dataframe tbody tr th {\n",
       "        vertical-align: top;\n",
       "    }\n",
       "\n",
       "    .dataframe thead th {\n",
       "        text-align: right;\n",
       "    }\n",
       "</style>\n",
       "<table border=\"1\" class=\"dataframe\">\n",
       "  <thead>\n",
       "    <tr style=\"text-align: right;\">\n",
       "      <th></th>\n",
       "      <th>sen1</th>\n",
       "      <th>sen2</th>\n",
       "      <th>label</th>\n",
       "    </tr>\n",
       "  </thead>\n",
       "  <tbody>\n",
       "    <tr>\n",
       "      <th>107156</th>\n",
       "      <td>Full dose of capecitabine due to miscommunication</td>\n",
       "      <td>Transaminases increased</td>\n",
       "      <td>0</td>\n",
       "    </tr>\n",
       "    <tr>\n",
       "      <th>34706</th>\n",
       "      <td>Macular cytomegalovirus retinitis in the left eye</td>\n",
       "      <td>SIADH</td>\n",
       "      <td>0</td>\n",
       "    </tr>\n",
       "    <tr>\n",
       "      <th>91548</th>\n",
       "      <td>Ivermectin-induced warfarin toxicity</td>\n",
       "      <td>Meningoencephalitis bacterial</td>\n",
       "      <td>0</td>\n",
       "    </tr>\n",
       "    <tr>\n",
       "      <th>73147</th>\n",
       "      <td>Bupropion overdose for suicide</td>\n",
       "      <td>Drug clearance decreased</td>\n",
       "      <td>0</td>\n",
       "    </tr>\n",
       "    <tr>\n",
       "      <th>35412</th>\n",
       "      <td>Disease progression on capecitabine-gemcitabin...</td>\n",
       "      <td>Delusions</td>\n",
       "      <td>0</td>\n",
       "    </tr>\n",
       "    <tr>\n",
       "      <th>9141</th>\n",
       "      <td>detumescence</td>\n",
       "      <td>Inability to maintain erection</td>\n",
       "      <td>1</td>\n",
       "    </tr>\n",
       "    <tr>\n",
       "      <th>116429</th>\n",
       "      <td>Hemorrhagic necrosis/ haemorrhage into the ori...</td>\n",
       "      <td>Candidaemia</td>\n",
       "      <td>0</td>\n",
       "    </tr>\n",
       "    <tr>\n",
       "      <th>42235</th>\n",
       "      <td>Interstitial pneumonitis</td>\n",
       "      <td>Drug exposure during pregnancy</td>\n",
       "      <td>0</td>\n",
       "    </tr>\n",
       "    <tr>\n",
       "      <th>63612</th>\n",
       "      <td>Grade 1 elevated AST level</td>\n",
       "      <td>Hypermagnesaemia</td>\n",
       "      <td>0</td>\n",
       "    </tr>\n",
       "    <tr>\n",
       "      <th>49404</th>\n",
       "      <td>Fungal infection</td>\n",
       "      <td>Fungal infection</td>\n",
       "      <td>1</td>\n",
       "    </tr>\n",
       "    <tr>\n",
       "      <th>85998</th>\n",
       "      <td>necrosis</td>\n",
       "      <td>Cardiac insufficiency</td>\n",
       "      <td>0</td>\n",
       "    </tr>\n",
       "    <tr>\n",
       "      <th>27768</th>\n",
       "      <td>Petechial haemorrhage and deep bleeding ulcera...</td>\n",
       "      <td>Neuropsychiatric symptoms</td>\n",
       "      <td>0</td>\n",
       "    </tr>\n",
       "    <tr>\n",
       "      <th>168</th>\n",
       "      <td>gerd</td>\n",
       "      <td>Abdominal cocoon</td>\n",
       "      <td>0</td>\n",
       "    </tr>\n",
       "    <tr>\n",
       "      <th>121319</th>\n",
       "      <td>Grade 4 sepsis</td>\n",
       "      <td>Hypoxia</td>\n",
       "      <td>0</td>\n",
       "    </tr>\n",
       "    <tr>\n",
       "      <th>76730</th>\n",
       "      <td>Right lower eyelid ectropion</td>\n",
       "      <td>Hypersensitivity</td>\n",
       "      <td>0</td>\n",
       "    </tr>\n",
       "    <tr>\n",
       "      <th>109133</th>\n",
       "      <td>cns anticholinergic effects</td>\n",
       "      <td>Weakness</td>\n",
       "      <td>0</td>\n",
       "    </tr>\n",
       "    <tr>\n",
       "      <th>90151</th>\n",
       "      <td>Cross-reactivity of darunavir with previous su...</td>\n",
       "      <td>Small bowel pseudomelanosis</td>\n",
       "      <td>0</td>\n",
       "    </tr>\n",
       "    <tr>\n",
       "      <th>4765</th>\n",
       "      <td>additional decrease in hemoglobin concentrations</td>\n",
       "      <td>Bronchospasm</td>\n",
       "      <td>0</td>\n",
       "    </tr>\n",
       "    <tr>\n",
       "      <th>50937</th>\n",
       "      <td>white blood cell count increased</td>\n",
       "      <td>Insomnia</td>\n",
       "      <td>0</td>\n",
       "    </tr>\n",
       "    <tr>\n",
       "      <th>107880</th>\n",
       "      <td>No response to paracetamol was noted</td>\n",
       "      <td>Bilirubin increased</td>\n",
       "      <td>0</td>\n",
       "    </tr>\n",
       "    <tr>\n",
       "      <th>121152</th>\n",
       "      <td>increases in qt interval</td>\n",
       "      <td>Deep vein thrombosis</td>\n",
       "      <td>0</td>\n",
       "    </tr>\n",
       "    <tr>\n",
       "      <th>116783</th>\n",
       "      <td>Increase in phenytoin level to supra-therapeut...</td>\n",
       "      <td>Drug level increased</td>\n",
       "      <td>1</td>\n",
       "    </tr>\n",
       "    <tr>\n",
       "      <th>103652</th>\n",
       "      <td>Severe metabolic acidosis</td>\n",
       "      <td>Phlebitis</td>\n",
       "      <td>0</td>\n",
       "    </tr>\n",
       "    <tr>\n",
       "      <th>90364</th>\n",
       "      <td>eye inflammation</td>\n",
       "      <td>Cyanosis</td>\n",
       "      <td>0</td>\n",
       "    </tr>\n",
       "    <tr>\n",
       "      <th>74466</th>\n",
       "      <td>Acute erythroderma characterised as alpha-type...</td>\n",
       "      <td>Erythroderma</td>\n",
       "      <td>1</td>\n",
       "    </tr>\n",
       "    <tr>\n",
       "      <th>11846</th>\n",
       "      <td>Ruptured mycotic cerebral aneurysms in the bas...</td>\n",
       "      <td>Rhinitis</td>\n",
       "      <td>0</td>\n",
       "    </tr>\n",
       "    <tr>\n",
       "      <th>6749</th>\n",
       "      <td>Drug-induced immune thrombocytopenia</td>\n",
       "      <td>Verruca vulgaris</td>\n",
       "      <td>0</td>\n",
       "    </tr>\n",
       "    <tr>\n",
       "      <th>61067</th>\n",
       "      <td>The patient received entecavir and developed r...</td>\n",
       "      <td>Enterobacter cloacae infection</td>\n",
       "      <td>0</td>\n",
       "    </tr>\n",
       "    <tr>\n",
       "      <th>93255</th>\n",
       "      <td>Emergence of resistance to ledipasvir, sofosbu...</td>\n",
       "      <td>Disease recurrence</td>\n",
       "      <td>0</td>\n",
       "    </tr>\n",
       "    <tr>\n",
       "      <th>68682</th>\n",
       "      <td>Mild moon face</td>\n",
       "      <td>Parkinsonism hyperpyrexia syndrome</td>\n",
       "      <td>0</td>\n",
       "    </tr>\n",
       "    <tr>\n",
       "      <th>...</th>\n",
       "      <td>...</td>\n",
       "      <td>...</td>\n",
       "      <td>...</td>\n",
       "    </tr>\n",
       "    <tr>\n",
       "      <th>59532</th>\n",
       "      <td>Hypermagnesaemia secondary to intoxication and...</td>\n",
       "      <td>Upper gastrointestinal bleeding</td>\n",
       "      <td>0</td>\n",
       "    </tr>\n",
       "    <tr>\n",
       "      <th>32933</th>\n",
       "      <td>The woman developed hypoxic respiratory failur...</td>\n",
       "      <td>Pharmacokinetic interaction</td>\n",
       "      <td>1</td>\n",
       "    </tr>\n",
       "    <tr>\n",
       "      <th>119964</th>\n",
       "      <td>Flu-like symptoms</td>\n",
       "      <td>Bacterial pneumonia, unspecified</td>\n",
       "      <td>0</td>\n",
       "    </tr>\n",
       "    <tr>\n",
       "      <th>17090</th>\n",
       "      <td>angle closure glaucoma</td>\n",
       "      <td>Hives</td>\n",
       "      <td>0</td>\n",
       "    </tr>\n",
       "    <tr>\n",
       "      <th>112820</th>\n",
       "      <td>Low suspicion for compartment syndrome to the ...</td>\n",
       "      <td>Portal vein thrombosis</td>\n",
       "      <td>0</td>\n",
       "    </tr>\n",
       "    <tr>\n",
       "      <th>41622</th>\n",
       "      <td>Conjoined twins in lumbal region with extra ar...</td>\n",
       "      <td>Conjoined twins</td>\n",
       "      <td>1</td>\n",
       "    </tr>\n",
       "    <tr>\n",
       "      <th>21199</th>\n",
       "      <td>increased creatinine</td>\n",
       "      <td>Herpes zoster</td>\n",
       "      <td>0</td>\n",
       "    </tr>\n",
       "    <tr>\n",
       "      <th>95129</th>\n",
       "      <td>Sotalol and diltiazem overdose</td>\n",
       "      <td>Speech disorder</td>\n",
       "      <td>0</td>\n",
       "    </tr>\n",
       "    <tr>\n",
       "      <th>74683</th>\n",
       "      <td>Normal neonate</td>\n",
       "      <td>Treatment failure</td>\n",
       "      <td>0</td>\n",
       "    </tr>\n",
       "    <tr>\n",
       "      <th>6437</th>\n",
       "      <td>Fetal cardiomegaly</td>\n",
       "      <td>GGT increased</td>\n",
       "      <td>0</td>\n",
       "    </tr>\n",
       "    <tr>\n",
       "      <th>2970</th>\n",
       "      <td>Maternal exposure to methadone during pregnancy</td>\n",
       "      <td>Allergic reaction NOS</td>\n",
       "      <td>0</td>\n",
       "    </tr>\n",
       "    <tr>\n",
       "      <th>8688</th>\n",
       "      <td>Treatment with preserved dorzolamide/timolol a...</td>\n",
       "      <td>Paresthesia oral</td>\n",
       "      <td>0</td>\n",
       "    </tr>\n",
       "    <tr>\n",
       "      <th>51618</th>\n",
       "      <td>Ineffectiveness of prednisone and colchicine f...</td>\n",
       "      <td>Avascular necrosis femoral head</td>\n",
       "      <td>0</td>\n",
       "    </tr>\n",
       "    <tr>\n",
       "      <th>16295</th>\n",
       "      <td>Eosinophilia</td>\n",
       "      <td>Lung nodule</td>\n",
       "      <td>0</td>\n",
       "    </tr>\n",
       "    <tr>\n",
       "      <th>46260</th>\n",
       "      <td>Paradoxical new onset or worsening of psoriasi...</td>\n",
       "      <td>Lack of drug effect</td>\n",
       "      <td>0</td>\n",
       "    </tr>\n",
       "    <tr>\n",
       "      <th>19061</th>\n",
       "      <td>drug eruption</td>\n",
       "      <td>Mental status changes</td>\n",
       "      <td>0</td>\n",
       "    </tr>\n",
       "    <tr>\n",
       "      <th>40824</th>\n",
       "      <td>Cidofovir-associated uveitis</td>\n",
       "      <td>Uveitis</td>\n",
       "      <td>1</td>\n",
       "    </tr>\n",
       "    <tr>\n",
       "      <th>99893</th>\n",
       "      <td>Immediate Hypersensitivity reaction</td>\n",
       "      <td>Alanine aminotransferase increased</td>\n",
       "      <td>0</td>\n",
       "    </tr>\n",
       "    <tr>\n",
       "      <th>33329</th>\n",
       "      <td>Secondary adrenal insufficiency</td>\n",
       "      <td>Mesenteric artery stenosis</td>\n",
       "      <td>0</td>\n",
       "    </tr>\n",
       "    <tr>\n",
       "      <th>89778</th>\n",
       "      <td>Haemoglobin dropped two points</td>\n",
       "      <td>Oral ulceration</td>\n",
       "      <td>0</td>\n",
       "    </tr>\n",
       "    <tr>\n",
       "      <th>122400</th>\n",
       "      <td>increases in pain</td>\n",
       "      <td>Pneumonia bacterial</td>\n",
       "      <td>0</td>\n",
       "    </tr>\n",
       "    <tr>\n",
       "      <th>37639</th>\n",
       "      <td>Increased concentrations of serum creatinine, ...</td>\n",
       "      <td>Haemorrhage</td>\n",
       "      <td>0</td>\n",
       "    </tr>\n",
       "    <tr>\n",
       "      <th>101922</th>\n",
       "      <td>Optic nerve head granuloma</td>\n",
       "      <td>Drug hypersensitivity</td>\n",
       "      <td>0</td>\n",
       "    </tr>\n",
       "    <tr>\n",
       "      <th>104936</th>\n",
       "      <td>Pre-renal acute kidney injury</td>\n",
       "      <td>Actinic keratosis</td>\n",
       "      <td>0</td>\n",
       "    </tr>\n",
       "    <tr>\n",
       "      <th>112509</th>\n",
       "      <td>facial swelling</td>\n",
       "      <td>Aspartate aminotransferase increased</td>\n",
       "      <td>0</td>\n",
       "    </tr>\n",
       "    <tr>\n",
       "      <th>57528</th>\n",
       "      <td>Worsening leucocytosis</td>\n",
       "      <td>Elastosis perforans</td>\n",
       "      <td>0</td>\n",
       "    </tr>\n",
       "    <tr>\n",
       "      <th>113374</th>\n",
       "      <td>ciliary hyperemia</td>\n",
       "      <td>Drug toxicity</td>\n",
       "      <td>0</td>\n",
       "    </tr>\n",
       "    <tr>\n",
       "      <th>121836</th>\n",
       "      <td>Flecainide toxicity</td>\n",
       "      <td>Cardiac dysfunction</td>\n",
       "      <td>0</td>\n",
       "    </tr>\n",
       "    <tr>\n",
       "      <th>40182</th>\n",
       "      <td>Deep venous thrombosis of the left lower extre...</td>\n",
       "      <td>Malignant otitis externa</td>\n",
       "      <td>0</td>\n",
       "    </tr>\n",
       "    <tr>\n",
       "      <th>30108</th>\n",
       "      <td>The woman received alprazolam, venlafaxine, cl...</td>\n",
       "      <td>Drug overdose accidental</td>\n",
       "      <td>0</td>\n",
       "    </tr>\n",
       "  </tbody>\n",
       "</table>\n",
       "<p>298 rows × 3 columns</p>\n",
       "</div>"
      ],
      "text/plain": [
       "                                                     sen1  \\\n",
       "107156  Full dose of capecitabine due to miscommunication   \n",
       "34706   Macular cytomegalovirus retinitis in the left eye   \n",
       "91548                Ivermectin-induced warfarin toxicity   \n",
       "73147                      Bupropion overdose for suicide   \n",
       "35412   Disease progression on capecitabine-gemcitabin...   \n",
       "9141                                         detumescence   \n",
       "116429  Hemorrhagic necrosis/ haemorrhage into the ori...   \n",
       "42235                            Interstitial pneumonitis   \n",
       "63612                          Grade 1 elevated AST level   \n",
       "49404                                    Fungal infection   \n",
       "85998                                            necrosis   \n",
       "27768   Petechial haemorrhage and deep bleeding ulcera...   \n",
       "168                                                  gerd   \n",
       "121319                                     Grade 4 sepsis   \n",
       "76730                        Right lower eyelid ectropion   \n",
       "109133                        cns anticholinergic effects   \n",
       "90151   Cross-reactivity of darunavir with previous su...   \n",
       "4765     additional decrease in hemoglobin concentrations   \n",
       "50937                    white blood cell count increased   \n",
       "107880               No response to paracetamol was noted   \n",
       "121152                           increases in qt interval   \n",
       "116783  Increase in phenytoin level to supra-therapeut...   \n",
       "103652                          Severe metabolic acidosis   \n",
       "90364                                    eye inflammation   \n",
       "74466   Acute erythroderma characterised as alpha-type...   \n",
       "11846   Ruptured mycotic cerebral aneurysms in the bas...   \n",
       "6749                 Drug-induced immune thrombocytopenia   \n",
       "61067   The patient received entecavir and developed r...   \n",
       "93255   Emergence of resistance to ledipasvir, sofosbu...   \n",
       "68682                                      Mild moon face   \n",
       "...                                                   ...   \n",
       "59532   Hypermagnesaemia secondary to intoxication and...   \n",
       "32933   The woman developed hypoxic respiratory failur...   \n",
       "119964                                  Flu-like symptoms   \n",
       "17090                              angle closure glaucoma   \n",
       "112820  Low suspicion for compartment syndrome to the ...   \n",
       "41622   Conjoined twins in lumbal region with extra ar...   \n",
       "21199                                increased creatinine   \n",
       "95129                      Sotalol and diltiazem overdose   \n",
       "74683                                      Normal neonate   \n",
       "6437                                   Fetal cardiomegaly   \n",
       "2970      Maternal exposure to methadone during pregnancy   \n",
       "8688    Treatment with preserved dorzolamide/timolol a...   \n",
       "51618   Ineffectiveness of prednisone and colchicine f...   \n",
       "16295                                        Eosinophilia   \n",
       "46260   Paradoxical new onset or worsening of psoriasi...   \n",
       "19061                                       drug eruption   \n",
       "40824                        Cidofovir-associated uveitis   \n",
       "99893                 Immediate Hypersensitivity reaction   \n",
       "33329                     Secondary adrenal insufficiency   \n",
       "89778                      Haemoglobin dropped two points   \n",
       "122400                                  increases in pain   \n",
       "37639   Increased concentrations of serum creatinine, ...   \n",
       "101922                         Optic nerve head granuloma   \n",
       "104936                      Pre-renal acute kidney injury   \n",
       "112509                                    facial swelling   \n",
       "57528                              Worsening leucocytosis   \n",
       "113374                                  ciliary hyperemia   \n",
       "121836                                Flecainide toxicity   \n",
       "40182   Deep venous thrombosis of the left lower extre...   \n",
       "30108   The woman received alprazolam, venlafaxine, cl...   \n",
       "\n",
       "                                        sen2 label  \n",
       "107156               Transaminases increased     0  \n",
       "34706                                  SIADH     0  \n",
       "91548          Meningoencephalitis bacterial     0  \n",
       "73147               Drug clearance decreased     0  \n",
       "35412                              Delusions     0  \n",
       "9141          Inability to maintain erection     1  \n",
       "116429                           Candidaemia     0  \n",
       "42235         Drug exposure during pregnancy     0  \n",
       "63612                       Hypermagnesaemia     0  \n",
       "49404                       Fungal infection     1  \n",
       "85998                  Cardiac insufficiency     0  \n",
       "27768              Neuropsychiatric symptoms     0  \n",
       "168                         Abdominal cocoon     0  \n",
       "121319                               Hypoxia     0  \n",
       "76730                       Hypersensitivity     0  \n",
       "109133                              Weakness     0  \n",
       "90151            Small bowel pseudomelanosis     0  \n",
       "4765                            Bronchospasm     0  \n",
       "50937                               Insomnia     0  \n",
       "107880                   Bilirubin increased     0  \n",
       "121152                  Deep vein thrombosis     0  \n",
       "116783                  Drug level increased     1  \n",
       "103652                             Phlebitis     0  \n",
       "90364                               Cyanosis     0  \n",
       "74466                           Erythroderma     1  \n",
       "11846                               Rhinitis     0  \n",
       "6749                        Verruca vulgaris     0  \n",
       "61067         Enterobacter cloacae infection     0  \n",
       "93255                     Disease recurrence     0  \n",
       "68682     Parkinsonism hyperpyrexia syndrome     0  \n",
       "...                                      ...   ...  \n",
       "59532        Upper gastrointestinal bleeding     0  \n",
       "32933            Pharmacokinetic interaction     1  \n",
       "119964      Bacterial pneumonia, unspecified     0  \n",
       "17090                                  Hives     0  \n",
       "112820                Portal vein thrombosis     0  \n",
       "41622                        Conjoined twins     1  \n",
       "21199                          Herpes zoster     0  \n",
       "95129                        Speech disorder     0  \n",
       "74683                      Treatment failure     0  \n",
       "6437                           GGT increased     0  \n",
       "2970                   Allergic reaction NOS     0  \n",
       "8688                        Paresthesia oral     0  \n",
       "51618        Avascular necrosis femoral head     0  \n",
       "16295                            Lung nodule     0  \n",
       "46260                    Lack of drug effect     0  \n",
       "19061                  Mental status changes     0  \n",
       "40824                                Uveitis     1  \n",
       "99893     Alanine aminotransferase increased     0  \n",
       "33329             Mesenteric artery stenosis     0  \n",
       "89778                        Oral ulceration     0  \n",
       "122400                   Pneumonia bacterial     0  \n",
       "37639                            Haemorrhage     0  \n",
       "101922                 Drug hypersensitivity     0  \n",
       "104936                     Actinic keratosis     0  \n",
       "112509  Aspartate aminotransferase increased     0  \n",
       "57528                    Elastosis perforans     0  \n",
       "113374                         Drug toxicity     0  \n",
       "121836                   Cardiac dysfunction     0  \n",
       "40182               Malignant otitis externa     0  \n",
       "30108               Drug overdose accidental     0  \n",
       "\n",
       "[298 rows x 3 columns]"
      ]
     },
     "execution_count": 344,
     "metadata": {},
     "output_type": "execute_result"
    }
   ],
   "source": [
    "data.iloc[indices1[split_ind:][np.asanyarray(prediction1) != np.asarray(yval)]][['sen1','sen2','label']]"
   ]
  },
  {
   "cell_type": "code",
   "execution_count": null,
   "metadata": {},
   "outputs": [],
   "source": []
  }
 ],
 "metadata": {
  "kernelspec": {
   "display_name": "Python 3",
   "language": "python",
   "name": "python3"
  },
  "language_info": {
   "codemirror_mode": {
    "name": "ipython",
    "version": 3
   },
   "file_extension": ".py",
   "mimetype": "text/x-python",
   "name": "python",
   "nbconvert_exporter": "python",
   "pygments_lexer": "ipython3",
   "version": "3.7.3"
  }
 },
 "nbformat": 4,
 "nbformat_minor": 2
}
